{
  "cells": [
    {
      "cell_type": "markdown",
      "source": [
        "# Figure 41.11b - Laplace Approximation of Bayesian Posterior"
      ],
      "metadata": {
        "id": "Loi7sPizKppc"
      },
      "id": "Loi7sPizKppc"
    },
    {
      "cell_type": "code",
      "execution_count": null,
      "id": "caca8ecd-69f4-4340-ac58-8e96e02ab255",
      "metadata": {
        "id": "caca8ecd-69f4-4340-ac58-8e96e02ab255",
        "colab": {
          "base_uri": "https://localhost:8080/"
        },
        "outputId": "8d102eea-5ff2-47f5-a5c1-a5cb590f5632"
      },
      "outputs": [
        {
          "output_type": "stream",
          "name": "stdout",
          "text": [
            "Mounted at /content/drive\n"
          ]
        }
      ],
      "source": [
        "import numpy as np\n",
        "import matplotlib.pyplot as plt\n",
        "from google.colab import drive\n",
        "drive.mount('/content/drive')\n",
        "import copy"
      ]
    },
    {
      "cell_type": "code",
      "execution_count": null,
      "id": "fc024429-711e-4535-bf57-6318e46dac66",
      "metadata": {
        "id": "fc024429-711e-4535-bf57-6318e46dac66"
      },
      "outputs": [],
      "source": [
        "# reading in the dataset and making it usable\n",
        "\n",
        "with open (\"/content/drive/MyDrive/Neurophysics Q2/AML/x.ext\",\"r\") as file_input:\n",
        "    xin = file_input.read().split(\"\\n\")\n",
        "    \n",
        "for i in range(len(xin)):\n",
        "    xin[i]=xin[i].split(\" \")\n",
        "\n",
        "xin = xin[:10]\n",
        "\n",
        "X = np.array([[float (xin[i1][i2]) for i2 in range(len(xin[0]))] for i1 in range(len(xin))])\n",
        "# X = X[:,1:]\n",
        "\n",
        "with open (\"/content/drive/MyDrive/Neurophysics Q2/AML/t.ext\",\"r\") as file_input:\n",
        "    tin = file_input.read().split(\"\\n\")\n",
        "tin = tin[:10]\n",
        "\n",
        "t = np.array([float (tin[i1]) for i1 in range(len(tin))] )"
      ]
    },
    {
      "cell_type": "code",
      "source": [
        "# the input and output data, cleaned\n",
        "print(X,t)\n",
        "N,m = np.shape(X)\n",
        "print(N,m)"
      ],
      "metadata": {
        "colab": {
          "base_uri": "https://localhost:8080/"
        },
        "id": "wmIHDtLBLsZo",
        "outputId": "55ef3b9a-a3c4-4cf5-f282-9c1bb1c8c150"
      },
      "id": "wmIHDtLBLsZo",
      "execution_count": null,
      "outputs": [
        {
          "output_type": "stream",
          "name": "stdout",
          "text": [
            "[[1.  2.  3. ]\n",
            " [1.  3.  2. ]\n",
            " [1.  3.  6. ]\n",
            " [1.  5.5 4.5]\n",
            " [1.  5.  3. ]\n",
            " [1.  7.  4. ]\n",
            " [1.  5.  6. ]\n",
            " [1.  8.  6. ]\n",
            " [1.  9.5 5. ]\n",
            " [1.  9.  7. ]] [0. 0. 0. 0. 0. 1. 1. 1. 1. 1.]\n",
            "10 3\n"
          ]
        }
      ]
    },
    {
      "cell_type": "code",
      "source": [
        "# define non-linear solver\n",
        "def sigmoid(x):\n",
        "  return 1 / (1 + np.exp(-x))\n",
        "\n",
        "# initialize parameters and random initial weight vector\n",
        "eta = 0.001\n",
        "alpha = 0.01\n",
        "iterations = 1000000\n",
        "w = np.random.randn(len(X[0]))*0.1\n",
        "\n",
        "# apply gradient descent to find w*\n",
        "for i in range(iterations):\n",
        "    y = sigmoid(X@w)\n",
        "    grad = 1/N * (y-t) @ X + ((1/m) * alpha * w)\n",
        "    w -= eta * grad\n",
        "\n",
        "wmp = copy.deepcopy(w)"
      ],
      "metadata": {
        "id": "mmvTJUXHO_L5"
      },
      "id": "mmvTJUXHO_L5",
      "execution_count": null,
      "outputs": []
    },
    {
      "cell_type": "code",
      "source": [
        "# find the inverse Hessian \n",
        "h = X @ wmp\n",
        "sighs = sigmoid(h) * sigmoid(-h)\n",
        "H_ij = (np.array([sighs,sighs,sighs]).T * X ).T @ X + eta * np.identity(len(X[0]))\n",
        "H_inv = np.linalg.inv(H_ij)"
      ],
      "metadata": {
        "id": "p4QuSfJRx02_"
      },
      "id": "p4QuSfJRx02_",
      "execution_count": null,
      "outputs": []
    },
    {
      "cell_type": "code",
      "execution_count": null,
      "id": "8a008fb4-3fac-4368-9f19-33cd65470899",
      "metadata": {
        "id": "8a008fb4-3fac-4368-9f19-33cd65470899",
        "colab": {
          "base_uri": "https://localhost:8080/",
          "height": 281
        },
        "outputId": "62a5a82c-64dc-44fb-ca26-ba903b74b82b"
      },
      "outputs": [
        {
          "output_type": "display_data",
          "data": {
            "text/plain": [
              "<Figure size 432x288 with 2 Axes>"
            ],
            "image/png": "[encoded data removed]"
          },
          "metadata": {
            "needs_background": "light"
          }
        }
      ],
      "source": [
        "# creating array from ragged prints error, but algorithm works fine;\n",
        "# to remove ugly, useless error:\n",
        "np.warnings.filterwarnings('ignore', category=np.VisibleDeprecationWarning)   \n",
        "\n",
        "# the perceptron solution line\n",
        "def line(w,x):\n",
        "  return -(w[0]/w[2])/(w[0]/w[1])*x - w[0]/w[2]\n",
        "\n",
        "xline = np.linspace(0,10,100)\n",
        "yline = line(wmp,xline)\n",
        "\n",
        "# initialize new input plane to visualize p(t=1|x) \n",
        "new_input = np.linspace(0, 10, 30)\n",
        "Xnew, Ynew = np.meshgrid(new_input,new_input)\n",
        "\n",
        "# define function to calculate approximation to p(t=1|x)\n",
        "def psi_approx(x2, x3):\n",
        "    x = np.array([1, x2, x3])\n",
        "    a_star = wmp @ x\n",
        "    s2 = x.T @ H_inv @ x\n",
        "    return sigmoid(1 / np.sqrt(1 + (np.pi * s2 / 8)) * a_star)\n",
        "\n",
        "# calculate p(t=1|x) values for the new input\n",
        "Znew = psi_approx(Xnew,Ynew)\n",
        "\n",
        "# make a contour plot of p(t=1|x), which is the requested result\n",
        "plt.contourf(Xnew, Ynew, Znew)\n",
        "plt.scatter(X[:5, 1], X[:5, 2], color = 'yellow',marker='s', label=\"t=0\")\n",
        "plt.scatter(X[5:, 1], X[5:, 2], color = 'black', marker = '*', label=\"t=1\")\n",
        "plt.plot(xline,yline,color = 'red', label = 'solving perceptron')\n",
        "\n",
        "plt.ylim([0,10])\n",
        "plt.xlim([0,10])\n",
        "plt.title(\"Predictive function p(t=1|x) from Gaussian approximation\")\n",
        "plt.legend()\n",
        "plt.colorbar()\n",
        "plt.show()"
      ]
    },
    {
      "cell_type": "markdown",
      "source": [
        "### Incorrect, interesting result\n",
        "\n",
        "I tried out different variations of the gradient rule; using the one suggested by the Mackay book, I found the following result, but the correct result was obtained by using my own gradient descent rule.\n",
        "\n",
        "The following solution does not coincide with the figure from Mackay, but it is an interesting result since the perceptron solution *does* correctly split between the two labels, whereas this does not happen very clearly for the correct plot..."
      ],
      "metadata": {
        "id": "ceHqs4RZX5PF"
      },
      "id": "ceHqs4RZX5PF"
    },
    {
      "cell_type": "code",
      "source": [
        "# using the following gradient descent rule,\n",
        "# another interesting result is obtained\n",
        "\n",
        "eta = 0.01 # learning rule\n",
        "runs = 100000\n",
        "alpha = 0.0001 # regularization parameter\n",
        "\n",
        "w = np.random.randn(m)\n",
        "\n",
        "for i in range(runs):\n",
        "  a = X@w \n",
        "  y = sigmoid(a)\n",
        "  e = t - y\n",
        "  g = - X.T @ e\n",
        "  w = w - eta * (g+alpha*w)\n",
        "\n",
        "wmp = copy.deepcopy(w)\n",
        "t,y,np.round(y),wmp"
      ],
      "metadata": {
        "colab": {
          "base_uri": "https://localhost:8080/"
        },
        "id": "QJp4O5ZiWU8y",
        "outputId": "f218cfc8-536a-460c-cdbe-9263aa36eda8"
      },
      "id": "QJp4O5ZiWU8y",
      "execution_count": null,
      "outputs": [
        {
          "output_type": "execute_result",
          "data": {
            "text/plain": [
              "(array([0., 0., 0., 0., 0., 1., 1., 1., 1., 1.]),\n",
              " array([1.46650936e-09, 1.48016679e-09, 5.25397764e-03, 1.90244032e-01,\n",
              "        1.23782012e-04, 9.11926012e-01, 9.10425555e-01, 9.99998834e-01,\n",
              "        9.99999826e-01, 9.99999999e-01]),\n",
              " array([0., 0., 0., 0., 0., 1., 1., 1., 1., 1.]),\n",
              " array([-39.21857221,   3.78118504,   3.77191606]))"
            ]
          },
          "metadata": {},
          "execution_count": 9
        }
      ]
    },
    {
      "cell_type": "code",
      "source": [
        "# find the inverse Hessian \n",
        "h = X @ wmp\n",
        "sighs = sigmoid(h) * sigmoid(-h)\n",
        "H_ij = (np.array([sighs,sighs,sighs]).T * X ).T @ X + eta * np.identity(len(X[0]))\n",
        "H_inv = np.linalg.inv(H_ij)\n",
        "\n",
        "# the perceptron solution line\n",
        "def line(w,x):\n",
        "  return -(w[0]/w[2])/(w[0]/w[1])*x - w[0]/w[2]\n",
        "\n",
        "xline = np.linspace(0,10,100)\n",
        "yline = line(wmp,xline)\n",
        "\n",
        "# creating array from ragged prints error, but algorithm works fine;\n",
        "# to remove ugly, useless error:\n",
        "np.warnings.filterwarnings('ignore', category=np.VisibleDeprecationWarning)   \n",
        "\n",
        "# initialize new input plane for which to calculate p(t=1|x) \n",
        "new_input = np.linspace(0, 10, 30)\n",
        "Xnew, Ynew = np.meshgrid(new_input,new_input)\n",
        "\n",
        "# define function to calculate approximation to p(t=1|x)\n",
        "def psi_approx(x2, x3):\n",
        "    x = np.array([1, x2, x3])\n",
        "    a_star = wmp @ x\n",
        "    s2 = x.T @ H_inv @ x\n",
        "    return sigmoid(1 / np.sqrt(1 + (np.pi * s2 / 8)) * a_star)\n",
        "\n",
        "# calculate p(t=1|x) values for the new input\n",
        "Znew = psi_approx(Xnew,Ynew)\n",
        "\n",
        "# make a contour plot of p(t=1|x), which is the requested result\n",
        "plt.contourf(Xnew, Ynew, Znew)\n",
        "plt.scatter(X[:5, 1], X[:5, 2], color = 'yellow',marker='s', label=\"t=0\")\n",
        "plt.scatter(X[5:, 1], X[5:, 2], color = 'black', marker = '*', label=\"t=1\")\n",
        "plt.plot(xline,yline,color = 'red', label = 'solving perceptron')\n",
        "\n",
        "plt.ylim([0,10])\n",
        "plt.xlim([0,10])\n",
        "plt.title(\"Predictive function p(t=1|x) from Gaussian approximation\")\n",
        "plt.legend()\n",
        "plt.colorbar()\n",
        "plt.show()"
      ],
      "metadata": {
        "colab": {
          "base_uri": "https://localhost:8080/",
          "height": 281
        },
        "id": "GptjrlFhYWUj",
        "outputId": "8070d93f-b529-4c9f-90ec-f28570bb3d99"
      },
      "id": "GptjrlFhYWUj",
      "execution_count": null,
      "outputs": [
        {
          "output_type": "display_data",
          "data": {
            "text/plain": [
              "<Figure size 432x288 with 2 Axes>"
            ],
            "image/png": "[encoded data removed]"
          },
          "metadata": {
            "needs_background": "light"
          }
        }
      ]
    },
    {
      "cell_type": "code",
      "source": [],
      "metadata": {
        "id": "Y_ZM8iot8thE"
      },
      "id": "Y_ZM8iot8thE",
      "execution_count": null,
      "outputs": []
    }
  ],
  "metadata": {
    "kernelspec": {
      "display_name": "Python 3 (ipykernel)",
      "language": "python",
      "name": "python3"
    },
    "language_info": {
      "codemirror_mode": {
        "name": "ipython",
        "version": 3
      },
      "file_extension": ".py",
      "mimetype": "text/x-python",
      "name": "python",
      "nbconvert_exporter": "python",
      "pygments_lexer": "ipython3",
      "version": "3.9.7"
    },
    "colab": {
      "provenance": []
    }
  },
  "nbformat": 4,
  "nbformat_minor": 5
}